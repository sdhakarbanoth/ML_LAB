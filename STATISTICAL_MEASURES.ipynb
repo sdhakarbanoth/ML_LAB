{
  "nbformat": 4,
  "nbformat_minor": 0,
  "metadata": {
    "colab": {
      "provenance": []
    },
    "kernelspec": {
      "name": "python3",
      "display_name": "Python 3"
    },
    "language_info": {
      "name": "python"
    }
  },
  "cells": [
    {
      "cell_type": "markdown",
      "source": [
        "**STATISTICAL MEASURES**"
      ],
      "metadata": {
        "id": "nX4WjAyFPmox"
      }
    },
    {
      "cell_type": "code",
      "source": [
        "import numpy as np\n",
        "from statistics import mean, median, mode\n",
        "\n",
        "#Example data\n",
        "data = [2,4,4,4,5,5,7,9]\n",
        "\n",
        "#Central Tendency Measures\n",
        "print(\"Mean:\", mean(data))\n",
        "print(\"Median:\", median(data))\n",
        "print(\"Mode:\", mode(data))\n",
        "\n",
        "#Measures of Dispersion\n",
        "print(\"Variance:\", np.var(data))\n",
        "print(\"Standard Deviation:\", np.std(data))"
      ],
      "metadata": {
        "colab": {
          "base_uri": "https://localhost:8080/"
        },
        "id": "1U5_kmVLLYTx",
        "outputId": "8552fcd3-98e4-4eee-a7b7-57f9c4f0d3bd"
      },
      "execution_count": null,
      "outputs": [
        {
          "output_type": "stream",
          "name": "stdout",
          "text": [
            "Mean: 5\n",
            "Median: 4.5\n",
            "Mode: 4\n",
            "Variance: 4.0\n",
            "Standard Deviation: 2.0\n"
          ]
        }
      ]
    },
    {
      "cell_type": "markdown",
      "source": [
        "**1. NUMBER FUNCTIONS**"
      ],
      "metadata": {
        "id": "3laqoHCFP7bQ"
      }
    },
    {
      "cell_type": "code",
      "source": [
        "import math\n",
        "print(math.ceil(2.9))\n",
        "print(math.floor(12.7))\n",
        "print(math.trunc(8.9))"
      ],
      "metadata": {
        "colab": {
          "base_uri": "https://localhost:8080/"
        },
        "id": "tp_64_B2NzTx",
        "outputId": "8acae1e9-73bf-4c31-ec02-b39719113b84"
      },
      "execution_count": null,
      "outputs": [
        {
          "output_type": "stream",
          "name": "stdout",
          "text": [
            "3\n",
            "12\n",
            "8\n"
          ]
        }
      ]
    },
    {
      "cell_type": "markdown",
      "source": [
        "**2. POWER AND LOGARITHMIC FUNCTIONS**"
      ],
      "metadata": {
        "id": "llFEWHT9QBin"
      }
    },
    {
      "cell_type": "code",
      "source": [
        "\n",
        "print(math.pow(5,3))\n",
        "print(math.sqrt(9))\n",
        "print(math.exp(5))\n",
        "print(math.log(2,2))"
      ],
      "metadata": {
        "colab": {
          "base_uri": "https://localhost:8080/"
        },
        "id": "7sZOjmIXOExx",
        "outputId": "e60ebfb5-ad4a-41f4-f2a7-0077e06534ef"
      },
      "execution_count": null,
      "outputs": [
        {
          "output_type": "stream",
          "name": "stdout",
          "text": [
            "125.0\n",
            "3.0\n",
            "148.4131591025766\n",
            "1.0\n"
          ]
        }
      ]
    },
    {
      "cell_type": "markdown",
      "source": [
        "**3. TRIGNOMETRIC FUNCTIONS**"
      ],
      "metadata": {
        "id": "WjsFxTxtQPCY"
      }
    },
    {
      "cell_type": "code",
      "source": [
        "print(math.sin(math.pi/8))\n",
        "print(math.cos(45))\n",
        "print(math.tan(math.pi/4))\n",
        "\n",
        "print(math.radians(60))\n",
        "print(math.degrees(math.pi))"
      ],
      "metadata": {
        "colab": {
          "base_uri": "https://localhost:8080/"
        },
        "id": "n7cb-MN0Onww",
        "outputId": "8d5e598e-c309-488b-f1f8-715c12a1d289"
      },
      "execution_count": null,
      "outputs": [
        {
          "output_type": "stream",
          "name": "stdout",
          "text": [
            "0.3826834323650898\n",
            "0.5253219888177297\n",
            "0.9999999999999999\n",
            "1.0471975511965976\n",
            "180.0\n"
          ]
        }
      ]
    },
    {
      "cell_type": "markdown",
      "source": [
        "**4. SPECIAL FUNCTIONS**"
      ],
      "metadata": {
        "id": "icv5RsFMQfIX"
      }
    },
    {
      "cell_type": "code",
      "source": [
        "print(math.factorial(6))\n",
        "print(math.gcd(5,125))\n",
        "print(math.fabs(-8.55))"
      ],
      "metadata": {
        "colab": {
          "base_uri": "https://localhost:8080/"
        },
        "id": "TZNwUPexOzvJ",
        "outputId": "b77337f2-e3e1-496e-c62a-6c673d3f926e"
      },
      "execution_count": null,
      "outputs": [
        {
          "output_type": "stream",
          "name": "stdout",
          "text": [
            "720\n",
            "5\n",
            "8.55\n"
          ]
        }
      ]
    },
    {
      "cell_type": "markdown",
      "source": [
        "**5. CONSTANTS**"
      ],
      "metadata": {
        "id": "F5fR--OGQkL4"
      }
    },
    {
      "cell_type": "code",
      "source": [
        "print(math.pi)\n",
        "print(math.e)"
      ],
      "metadata": {
        "colab": {
          "base_uri": "https://localhost:8080/"
        },
        "id": "yaAcjl4eO6QY",
        "outputId": "7877885e-820c-49ce-ba18-528732ddbf40"
      },
      "execution_count": null,
      "outputs": [
        {
          "output_type": "stream",
          "name": "stdout",
          "text": [
            "3.141592653589793\n",
            "2.718281828459045\n"
          ]
        }
      ]
    }
  ]
}